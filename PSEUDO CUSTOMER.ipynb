{
 "cells": [
  {
   "cell_type": "code",
   "execution_count": null,
   "id": "c9bb8a6b-bb67-4fb2-a2be-f0e12b95c23e",
   "metadata": {},
   "outputs": [],
   "source": [
    "'''\n",
    "Pseudo-Labeling \n",
    "Assignment 1: Pseudo-Labeling for Customer Review Sentiment Classification \n",
    "Objective: \n",
    "Use pseudo-labeling to improve the performance of a sentiment classification model trained \n",
    "on a small set of labeled customer reviews, using a much larger set of unlabeled reviews. \n",
    "Dataset: \n",
    "Amazon product reviews (you can use the public dataset from the Amazon Customer \n",
    "Reviews corpus on AWS or Kaggle). \n",
    "Steps: \n",
    "1. Preprocess the labeled and unlabeled text data (tokenization, lowercasing, etc.). \n",
    "2. Train a baseline sentiment classifier (e.g., logistic regression, SVM, or BERT) on the \n",
    "labeled dataset. \n",
    "3. Use the model to predict labels for the unlabeled reviews (with a confidence \n",
    "threshold). \n",
    "4. Add high-confidence predictions to the labeled dataset (pseudo-labels). \n",
    "5. Retrain the model with the augmented dataset and compare performance. \n",
    "Deliverables: \n",
    " Baseline vs. pseudo-labeled model performance (accuracy, F1-score) \n",
    " Code and explanation of pseudo-labeling logic \n",
    " Discussion on confidence threshold and quality of pseudo-labeled data\n",
    "'''"
   ]
  },
  {
   "cell_type": "code",
   "execution_count": 1,
   "id": "2269d218-3654-42ba-bc2e-7d54424f3b21",
   "metadata": {},
   "outputs": [
    {
     "data": {
      "application/vnd.jupyter.widget-view+json": {
       "model_id": "61c37cec9a054ffd90cc8478a8e82e14",
       "version_major": 2,
       "version_minor": 0
      },
      "text/plain": [
       "README.md:   0%|          | 0.00/30.3k [00:00<?, ?B/s]"
      ]
     },
     "metadata": {},
     "output_type": "display_data"
    },
    {
     "data": {
      "application/vnd.jupyter.widget-view+json": {
       "model_id": "a96a2840dba74f48a4c51010ff0304b6",
       "version_major": 2,
       "version_minor": 0
      },
      "text/plain": [
       "Amazon-Reviews-2023.py:   0%|          | 0.00/39.6k [00:00<?, ?B/s]"
      ]
     },
     "metadata": {},
     "output_type": "display_data"
    },
    {
     "data": {
      "application/vnd.jupyter.widget-view+json": {
       "model_id": "a2b8aa7b6c83473d8fa32641aa43a040",
       "version_major": 2,
       "version_minor": 0
      },
      "text/plain": [
       "All_Beauty.jsonl:   0%|          | 0.00/327M [00:00<?, ?B/s]"
      ]
     },
     "metadata": {},
     "output_type": "display_data"
    },
    {
     "data": {
      "application/vnd.jupyter.widget-view+json": {
       "model_id": "96a3df42690642dc94ab28c0306964e3",
       "version_major": 2,
       "version_minor": 0
      },
      "text/plain": [
       "Generating full split: 0 examples [00:00, ? examples/s]"
      ]
     },
     "metadata": {},
     "output_type": "display_data"
    },
    {
     "name": "stdout",
     "output_type": "stream",
     "text": [
      "{'rating': 5.0, 'title': 'Such a lovely scent but not overpowering.', 'text': \"This spray is really nice. It smells really good, goes on really fine, and does the trick. I will say it feels like you need a lot of it though to get the texture I want. I have a lot of hair, medium thickness. I am comparing to other brands with yucky chemicals so I'm gonna stick with this. Try it!\", 'images': [], 'asin': 'B00YQ6X8EO', 'parent_asin': 'B00YQ6X8EO', 'user_id': 'AGKHLEW2SOWHNMFQIJGBECAF7INQ', 'timestamp': 1588687728923, 'helpful_vote': 0, 'verified_purchase': True}\n"
     ]
    }
   ],
   "source": [
    "from datasets import load_dataset\n",
    "\n",
    "# Load the Amazon Reviews 'All Beauty' subset (requires internet or HF access)\n",
    "dataset = load_dataset(\"McAuley-Lab/Amazon-Reviews-2023\", \"raw_review_All_Beauty\", trust_remote_code=True)\n",
    "\n",
    "# Inspect a sample record (shows text and rating among other fields)\n",
    "print(dataset[\"full\"][0])\n"
   ]
  },
  {
   "cell_type": "code",
   "execution_count": 2,
   "id": "77f2fd9a-1070-43f5-87d7-1461ecaf2ab7",
   "metadata": {},
   "outputs": [],
   "source": [
    "# Example: Filter for binary labels and extract text and labels\n",
    "full_data = dataset[\"full\"]\n",
    "# Keep only 1-2 (negative) and 4-5 (positive) ratings\n",
    "binary_data = [x for x in full_data if x['rating'] >=4 or x['rating'] <=2]\n",
    "texts = [x['text'].lower() for x in binary_data]    # basic lowercasing\n",
    "labels = [1 if x['rating'] >=4 else 0 for x in binary_data]\n",
    "\n",
    "# (Optional) Shuffle the data\n",
    "import random\n",
    "combined = list(zip(texts, labels))\n",
    "random.seed(42)\n",
    "random.shuffle(combined)\n",
    "texts, labels = zip(*combined)\n"
   ]
  },
  {
   "cell_type": "code",
   "execution_count": 3,
   "id": "7a3e19a8-12f9-4972-9444-c7dbc9614266",
   "metadata": {},
   "outputs": [],
   "source": [
    "import re\n",
    "\n",
    "def clean_text(s):\n",
    "    # Remove non-letter characters and extra spaces\n",
    "    s = re.sub(r'http\\S+', '', s)          # remove URLs\n",
    "    s = re.sub(r'[^a-z\\s]', '', s)         # remove non-letters\n",
    "    s = re.sub(r'\\s+', ' ', s).strip()     # remove extra whitespace\n",
    "    return s\n",
    "\n",
    "texts_clean = [clean_text(t) for t in texts]\n"
   ]
  },
  {
   "cell_type": "code",
   "execution_count": 4,
   "id": "a1ab59d4-394b-4f2b-9607-7fdf0ed8eb79",
   "metadata": {},
   "outputs": [],
   "source": [
    "num_labels = 200\n",
    "labeled_texts = texts_clean[:num_labels]\n",
    "labeled_labels = labels[:num_labels]\n",
    "\n",
    "unlabeled_texts = texts_clean[num_labels:]\n"
   ]
  },
  {
   "cell_type": "code",
   "execution_count": 5,
   "id": "5b6d7cbb-78de-467d-8324-c6b2f68651de",
   "metadata": {},
   "outputs": [],
   "source": [
    "from sklearn.feature_extraction.text import TfidfVectorizer\n",
    "\n",
    "vectorizer = TfidfVectorizer(max_features=5000, stop_words='english')\n",
    "# Fit on labeled texts and transform both labeled and unlabeled\n",
    "X_labeled = vectorizer.fit_transform(labeled_texts)\n",
    "X_unlabeled = vectorizer.transform(unlabeled_texts)\n"
   ]
  },
  {
   "cell_type": "code",
   "execution_count": 6,
   "id": "918fc9fc-0b5a-4bab-bfe4-51ff642e4a65",
   "metadata": {},
   "outputs": [
    {
     "name": "stdout",
     "output_type": "stream",
     "text": [
      "Initial Accuracy: 0.8\n",
      "Initial F1 score: 0.8888888888888888\n"
     ]
    }
   ],
   "source": [
    "from sklearn.linear_model import LogisticRegression\n",
    "from sklearn.metrics import accuracy_score, f1_score\n",
    "\n",
    "# Split labeled data into train/test sets\n",
    "split = int(0.8 * len(labeled_texts))\n",
    "X_train, X_test = X_labeled[:split], X_labeled[split:]\n",
    "y_train, y_test = labeled_labels[:split], labeled_labels[split:]\n",
    "\n",
    "# Train logistic regression\n",
    "clf = LogisticRegression(max_iter=1000)\n",
    "clf.fit(X_train, y_train)\n",
    "\n",
    "# Evaluate on the held-out test set\n",
    "y_pred_initial = clf.predict(X_test)\n",
    "print(\"Initial Accuracy:\", accuracy_score(y_test, y_pred_initial))\n",
    "print(\"Initial F1 score:\", f1_score(y_test, y_pred_initial))\n"
   ]
  },
  {
   "cell_type": "code",
   "execution_count": 7,
   "id": "f14a64c1-f368-4375-a113-807fbef239de",
   "metadata": {},
   "outputs": [
    {
     "name": "stdout",
     "output_type": "stream",
     "text": [
      "Selected 7 pseudo-labeled samples with prob >= 0.9\n"
     ]
    }
   ],
   "source": [
    "import numpy as np\n",
    "\n",
    "# Predict probabilities on unlabeled data\n",
    "probabilities = clf.predict_proba(X_unlabeled)\n",
    "max_probs = np.max(probabilities, axis=1)\n",
    "pseudo_labels = np.argmax(probabilities, axis=1)\n",
    "\n",
    "# Select high-confidence pseudo-labels\n",
    "threshold = 0.9\n",
    "mask_confident = (max_probs >= threshold)\n",
    "X_pseudo = X_unlabeled[mask_confident]\n",
    "y_pseudo = pseudo_labels[mask_confident]\n",
    "\n",
    "print(\"Selected\", X_pseudo.shape[0], \"pseudo-labeled samples with prob >=\", threshold)\n"
   ]
  },
  {
   "cell_type": "code",
   "execution_count": 8,
   "id": "80d2b370-9df3-4d37-9ac9-f3e78e047a48",
   "metadata": {},
   "outputs": [
    {
     "name": "stdout",
     "output_type": "stream",
     "text": [
      "Augmented Accuracy: 0.8\n",
      "Augmented F1 score: 0.8888888888888888\n"
     ]
    }
   ],
   "source": [
    "from scipy.sparse import vstack\n",
    "\n",
    "# Augment original labeled training data with pseudo-labeled data\n",
    "X_augmented = vstack([X_train, X_pseudo])\n",
    "y_augmented = np.concatenate([y_train, y_pseudo])\n",
    "\n",
    "# Retrain the model on the augmented data\n",
    "clf_aug = LogisticRegression(max_iter=1000)\n",
    "clf_aug.fit(X_augmented, y_augmented)\n",
    "\n",
    "# Evaluate the new model on the same test set\n",
    "y_pred_aug = clf_aug.predict(X_test)\n",
    "print(\"Augmented Accuracy:\", accuracy_score(y_test, y_pred_aug))\n",
    "print(\"Augmented F1 score:\", f1_score(y_test, y_pred_aug))\n"
   ]
  },
  {
   "cell_type": "code",
   "execution_count": 9,
   "id": "9db2742a-e211-4e25-8f95-cece8b3eadd6",
   "metadata": {},
   "outputs": [
    {
     "data": {
      "text/plain": [
       "<sklearn.metrics._plot.confusion_matrix.ConfusionMatrixDisplay at 0x233e1944e90>"
      ]
     },
     "execution_count": 9,
     "metadata": {},
     "output_type": "execute_result"
    },
    {
     "data": {
      "image/png": "[encoded data removed]",
      "text/plain": [
       "<Figure size 640x480 with 2 Axes>"
      ]
     },
     "metadata": {},
     "output_type": "display_data"
    }
   ],
   "source": [
    "from sklearn.metrics import confusion_matrix, ConfusionMatrixDisplay\n",
    "\n",
    "# Compute confusion matrix for augmented model predictions\n",
    "cm = confusion_matrix(y_test, y_pred_aug)\n",
    "disp = ConfusionMatrixDisplay(confusion_matrix=cm, display_labels=['neg','pos'])\n",
    "disp.plot()\n"
   ]
  }
 ],
 "metadata": {
  "kernelspec": {
   "display_name": "Python 3 (ipykernel)",
   "language": "python",
   "name": "python3"
  },
  "language_info": {
   "codemirror_mode": {
    "name": "ipython",
    "version": 3
   },
   "file_extension": ".py",
   "mimetype": "text/x-python",
   "name": "python",
   "nbconvert_exporter": "python",
   "pygments_lexer": "ipython3",
   "version": "3.12.3"
  }
 },
 "nbformat": 4,
 "nbformat_minor": 5
}
